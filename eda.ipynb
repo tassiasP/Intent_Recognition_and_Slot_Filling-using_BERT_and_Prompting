{
 "cells": [
  {
   "cell_type": "code",
   "execution_count": 29,
   "metadata": {
    "collapsed": true
   },
   "outputs": [
    {
     "data": {
      "text/plain": "                                           utterance  \\\n0  [i, want, to, fly, from, baltimore, to, dallas...   \n1  [round, trip, fares, from, baltimore, to, phil...   \n2  [show, me, the, flights, arriving, on, baltimo...   \n3  [what, are, the, flights, which, depart, from,...   \n4  [which, airlines, fly, from, boston, to, washi...   \n\n                                               slots        intent  \n0  [O, O, O, O, O, B-fromloc.city_name, O, B-tolo...   atis_flight  \n1  [B-round_trip, I-round_trip, O, O, B-fromloc.c...  atis_airfare  \n2  [O, O, O, O, O, O, B-toloc.city_name, O, B-arr...   atis_flight  \n3  [O, O, O, O, O, O, O, B-fromloc.city_name, I-f...   atis_flight  \n4  [O, O, O, O, B-fromloc.city_name, O, B-toloc.c...  atis_airline  ",
      "text/html": "<div>\n<style scoped>\n    .dataframe tbody tr th:only-of-type {\n        vertical-align: middle;\n    }\n\n    .dataframe tbody tr th {\n        vertical-align: top;\n    }\n\n    .dataframe thead th {\n        text-align: right;\n    }\n</style>\n<table border=\"1\" class=\"dataframe\">\n  <thead>\n    <tr style=\"text-align: right;\">\n      <th></th>\n      <th>utterance</th>\n      <th>slots</th>\n      <th>intent</th>\n    </tr>\n  </thead>\n  <tbody>\n    <tr>\n      <th>0</th>\n      <td>[i, want, to, fly, from, baltimore, to, dallas...</td>\n      <td>[O, O, O, O, O, B-fromloc.city_name, O, B-tolo...</td>\n      <td>atis_flight</td>\n    </tr>\n    <tr>\n      <th>1</th>\n      <td>[round, trip, fares, from, baltimore, to, phil...</td>\n      <td>[B-round_trip, I-round_trip, O, O, B-fromloc.c...</td>\n      <td>atis_airfare</td>\n    </tr>\n    <tr>\n      <th>2</th>\n      <td>[show, me, the, flights, arriving, on, baltimo...</td>\n      <td>[O, O, O, O, O, O, B-toloc.city_name, O, B-arr...</td>\n      <td>atis_flight</td>\n    </tr>\n    <tr>\n      <th>3</th>\n      <td>[what, are, the, flights, which, depart, from,...</td>\n      <td>[O, O, O, O, O, O, O, B-fromloc.city_name, I-f...</td>\n      <td>atis_flight</td>\n    </tr>\n    <tr>\n      <th>4</th>\n      <td>[which, airlines, fly, from, boston, to, washi...</td>\n      <td>[O, O, O, O, B-fromloc.city_name, O, B-toloc.c...</td>\n      <td>atis_airline</td>\n    </tr>\n  </tbody>\n</table>\n</div>"
     },
     "execution_count": 29,
     "metadata": {},
     "output_type": "execute_result"
    }
   ],
   "source": [
    "import pandas as pd\n",
    "import matplotlib.pyplot as plt\n",
    "import seaborn as sns\n",
    "\n",
    "from reader import Reader\n",
    "\n",
    "# TODO add widget selection\n",
    "\n",
    "def dataset_to_df(dataset_name: str):\n",
    "    reader = Reader(dataset_name)\n",
    "    sentences, slots, intents = reader.read_dataset()\n",
    "\n",
    "    return pd.DataFrame(list(zip(sentences, slots, intents)),\n",
    "                        columns =['utterance', 'slots', 'intent'])\n",
    "\n",
    "\n",
    "DATASET_NAME = 'atis'\n",
    "df = dataset_to_df(DATASET_NAME)\n",
    "df.head()"
   ]
  },
  {
   "cell_type": "code",
   "execution_count": 18,
   "outputs": [
    {
     "data": {
      "text/plain": "46"
     },
     "execution_count": 18,
     "metadata": {},
     "output_type": "execute_result"
    }
   ],
   "source": [
    "df.slots.apply(len).max()\n"
   ],
   "metadata": {
    "collapsed": false,
    "pycharm": {
     "name": "#%%\n"
    }
   }
  },
  {
   "cell_type": "code",
   "execution_count": 22,
   "outputs": [
    {
     "data": {
      "text/plain": "<Figure size 432x288 with 1 Axes>",
      "image/png": "[encoded data removed]"
     },
     "metadata": {
      "needs_background": "light"
     },
     "output_type": "display_data"
    }
   ],
   "source": [
    "_ = df.slots.apply(len).plot(kind='box')"
   ],
   "metadata": {
    "collapsed": false,
    "pycharm": {
     "name": "#%%\n"
    }
   }
  },
  {
   "cell_type": "code",
   "execution_count": 24,
   "outputs": [],
   "source": [
    "# help(pd.DataFrame.plot)"
   ],
   "metadata": {
    "collapsed": false,
    "pycharm": {
     "name": "#%%\n"
    }
   }
  },
  {
   "cell_type": "code",
   "execution_count": 33,
   "outputs": [
    {
     "data": {
      "text/plain": "matplotlib.axes._subplots.AxesSubplot"
     },
     "execution_count": 33,
     "metadata": {},
     "output_type": "execute_result"
    },
    {
     "data": {
      "text/plain": "<Figure size 432x288 with 1 Axes>",
      "image/png": "[encoded data removed]"
     },
     "metadata": {
      "needs_background": "light"
     },
     "output_type": "display_data"
    }
   ],
   "source": [
    "chart = sns.countplot(data=df, x='intent')\n",
    "type(chart)"
   ],
   "metadata": {
    "collapsed": false,
    "pycharm": {
     "name": "#%%\n"
    }
   }
  }
 ],
 "metadata": {
  "kernelspec": {
   "display_name": "Python 3",
   "language": "python",
   "name": "python3"
  },
  "language_info": {
   "codemirror_mode": {
    "name": "ipython",
    "version": 2
   },
   "file_extension": ".py",
   "mimetype": "text/x-python",
   "name": "python",
   "nbconvert_exporter": "python",
   "pygments_lexer": "ipython2",
   "version": "2.7.6"
  }
 },
 "nbformat": 4,
 "nbformat_minor": 0
}